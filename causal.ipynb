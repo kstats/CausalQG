{
 "cells": [
  {
   "cell_type": "markdown",
   "metadata": {},
   "source": [
    "### causal preprocessing"
   ]
  },
  {
   "cell_type": "code",
   "execution_count": 10,
   "metadata": {},
   "outputs": [],
   "source": [
    "from stanfordcorenlp import StanfordCoreNLP\n",
    "import numpy as np\n",
    "import logging\n",
    "import json\n",
    "from copy import deepcopy\n",
    "import pandas as pd\n",
    "import numpy as np\n",
    "from nltk.tree import *\n",
    "from nltk import RegexpParser\n",
    "from nltk import tokenize\n",
    "from string import punctuation\n",
    "pd.set_option('display.max_colwidth', -1)"
   ]
  },
  {
   "cell_type": "code",
   "execution_count": 4,
   "metadata": {
    "scrolled": true
   },
   "outputs": [],
   "source": [
    "# !!!!!NEED TO run corenlp server and install package first, instructions are at\n",
    "# https://www.khalidalnajjar.com/setup-use-stanford-corenlp-server-python/\n",
    "\n",
    "# example for running server:\n",
    "# %%bash\n",
    "# cd /Users/emily/workspace/research/spring2020/stanford-corenlp-full-2018-10-05\n",
    "# java -mx4g -cp \"*\" edu.stanford.nlp.pipeline.StanfordCoreNLPServer -annotators \"tokenize,ssplit,pos,lemma,parse,sentiment\" -port 9000 -timeout 30000"
   ]
  },
  {
   "cell_type": "code",
   "execution_count": 2,
   "metadata": {
    "scrolled": true
   },
   "outputs": [],
   "source": [
    "class StanfordNLP:\n",
    "    def __init__(self, host='http://localhost', port=9000):\n",
    "        self.nlp = StanfordCoreNLP(host, port=port,\n",
    "                                   timeout=30000)  # , quiet=False, logging_level=logging.DEBUG)\n",
    "        self.props = {\n",
    "            'annotators': 'tokenize,ssplit,pos,lemma,ner,parse,depparse,dcoref,relation',\n",
    "            'pipelineLanguage': 'en',\n",
    "            'outputFormat': 'json'\n",
    "        }\n",
    "    def word_tokenize(self, sentence):\n",
    "        return self.nlp.word_tokenize(sentence)\n",
    "\n",
    "    def pos(self, sentence):\n",
    "        return self.nlp.pos_tag(sentence)\n",
    "\n",
    "    def ner(self, sentence):\n",
    "        return self.nlp.ner(sentence)\n",
    "sNLP = StanfordNLP()"
   ]
  },
  {
   "cell_type": "code",
   "execution_count": 8,
   "metadata": {},
   "outputs": [],
   "source": [
    "def replace_cue(context, cue_before, cue_after) -> str:\n",
    "    return context.replace(cue_before, cue_after)\n",
    "\n",
    "def answer_str(context, cue, comp) -> str: #comp = 0/1, indicates whether answer before or after cue word in a sentence\n",
    "    sents = tokenize.sent_tokenize(context)\n",
    "    for sent in sents:\n",
    "        if cue in sent:\n",
    "            return sent.split(cue)[comp].strip().strip(punctuation)\n",
    "        \n",
    "def make_shorter(context, cue, ambig): #deleted sentences before and after causal sent iff the causalsent has no ambiguous pronoun. True = if made shorter\n",
    "    sents = tokenize.sent_tokenize(context)\n",
    "    for sent in sents:\n",
    "        if cue in sent:# sent = causal sent\n",
    "            words = tokenize.word_tokenize(sent)\n",
    "            if any(w in ambig for w in words): #causalsent contains ambig words\n",
    "                return context, False\n",
    "            else:\n",
    "                return sent, True\n",
    "\n",
    "def find_cue(context, cuewords) ->str:\n",
    "    for cue in cuewords:\n",
    "        if cue in context:\n",
    "            return cue\n",
    "\n",
    "def cue_sent(context, cue):\n",
    "    sents = tokenize.sent_tokenize(context)\n",
    "    for sent in sents:\n",
    "        if cue in sent:# sent = causal sent\n",
    "            return sent\n",
    "        \n",
    "def answer_to_idx(context, answer): #retrun ans_idx, case sensitive\n",
    "# context = \"But when the Silk Road, the long overland trading route from China to the Mediterranean, became costlier and more dangerous to travel, Europeans searched for a more efficient and inexpensive trade route over water, initiating the development of what we now call the Atlantic World.\"\n",
    "# answer = \"Europeans searched for a more efficient and inexpensive trade route over water\"\n",
    "    start = context.find(answer)\n",
    "    if start >=0: #vocab term found\n",
    "        end = start + len(answer) # if the start_index is not -1\n",
    "        word_start = len(sNLP.word_tokenize(context[:start]))\n",
    "        word_end = word_start + len(sNLP.word_tokenize(context[start:end])) #inclusive\n",
    "        return(list(range(word_start, word_end)))\n",
    "    "
   ]
  },
  {
   "cell_type": "code",
   "execution_count": 93,
   "metadata": {},
   "outputs": [
    {
     "data": {
      "text/html": [
       "<div>\n",
       "<style scoped>\n",
       "    .dataframe tbody tr th:only-of-type {\n",
       "        vertical-align: middle;\n",
       "    }\n",
       "\n",
       "    .dataframe tbody tr th {\n",
       "        vertical-align: top;\n",
       "    }\n",
       "\n",
       "    .dataframe thead th {\n",
       "        text-align: right;\n",
       "    }\n",
       "</style>\n",
       "<table border=\"1\" class=\"dataframe\">\n",
       "  <thead>\n",
       "    <tr style=\"text-align: right;\">\n",
       "      <th></th>\n",
       "      <th>c</th>\n",
       "      <th>cue</th>\n",
       "      <th>sent</th>\n",
       "      <th>cause</th>\n",
       "      <th>effect</th>\n",
       "      <th>because of</th>\n",
       "      <th>as a result of</th>\n",
       "      <th>due to</th>\n",
       "      <th>madeshorter</th>\n",
       "      <th>shorter</th>\n",
       "    </tr>\n",
       "  </thead>\n",
       "  <tbody>\n",
       "    <tr>\n",
       "      <th>0</th>\n",
       "      <td>Streams often start in mountains, where the land is very steep. You can see an example in Figure 10.4. A mountain stream flows very quickly because of the steep slope. This causes a lot of erosion and very little deposition. The rapidly falling water digs down into the stream bed and makes it deeper. It carves a narrow, V-shaped channel.</td>\n",
       "      <td>because of</td>\n",
       "      <td>A mountain stream flows very quickly because of the steep slope.</td>\n",
       "      <td>the steep slope</td>\n",
       "      <td>A mountain stream flows very quickly</td>\n",
       "      <td>Streams often start in mountains, where the land is very steep. You can see an example in Figure 10.4. A mountain stream flows very quickly because of the steep slope. This causes a lot of erosion and very little deposition. The rapidly falling water digs down into the stream bed and makes it deeper. It carves a narrow, V-shaped channel.</td>\n",
       "      <td>Streams often start in mountains, where the land is very steep. You can see an example in Figure 10.4. A mountain stream flows very quickly as a result of the steep slope. This causes a lot of erosion and very little deposition. The rapidly falling water digs down into the stream bed and makes it deeper. It carves a narrow, V-shaped channel.</td>\n",
       "      <td>Streams often start in mountains, where the land is very steep. You can see an example in Figure 10.4. A mountain stream flows very quickly due to the steep slope. This causes a lot of erosion and very little deposition. The rapidly falling water digs down into the stream bed and makes it deeper. It carves a narrow, V-shaped channel.</td>\n",
       "      <td>True</td>\n",
       "      <td>A mountain stream flows very quickly because of the steep slope.</td>\n",
       "    </tr>\n",
       "  </tbody>\n",
       "</table>\n",
       "</div>"
      ],
      "text/plain": [
       "                                                                                                                                                                                                                                                                                                                                                      c  \\\n",
       "0  Streams often start in mountains, where the land is very steep. You can see an example in Figure 10.4. A mountain stream flows very quickly because of the steep slope. This causes a lot of erosion and very little deposition. The rapidly falling water digs down into the stream bed and makes it deeper. It carves a narrow, V-shaped channel.    \n",
       "\n",
       "          cue  \\\n",
       "0  because of   \n",
       "\n",
       "                                                               sent  \\\n",
       "0  A mountain stream flows very quickly because of the steep slope.   \n",
       "\n",
       "             cause                                effect  \\\n",
       "0  the steep slope  A mountain stream flows very quickly   \n",
       "\n",
       "                                                                                                                                                                                                                                                                                                                                             because of  \\\n",
       "0  Streams often start in mountains, where the land is very steep. You can see an example in Figure 10.4. A mountain stream flows very quickly because of the steep slope. This causes a lot of erosion and very little deposition. The rapidly falling water digs down into the stream bed and makes it deeper. It carves a narrow, V-shaped channel.    \n",
       "\n",
       "                                                                                                                                                                                                                                                                                                                                             as a result of  \\\n",
       "0  Streams often start in mountains, where the land is very steep. You can see an example in Figure 10.4. A mountain stream flows very quickly as a result of the steep slope. This causes a lot of erosion and very little deposition. The rapidly falling water digs down into the stream bed and makes it deeper. It carves a narrow, V-shaped channel.    \n",
       "\n",
       "                                                                                                                                                                                                                                                                                                                                             due to  \\\n",
       "0  Streams often start in mountains, where the land is very steep. You can see an example in Figure 10.4. A mountain stream flows very quickly due to the steep slope. This causes a lot of erosion and very little deposition. The rapidly falling water digs down into the stream bed and makes it deeper. It carves a narrow, V-shaped channel.    \n",
       "\n",
       "   madeshorter  \\\n",
       "0  True          \n",
       "\n",
       "                                                            shorter  \n",
       "0  A mountain stream flows very quickly because of the steep slope.  "
      ]
     },
     "execution_count": 93,
     "metadata": {},
     "output_type": "execute_result"
    }
   ],
   "source": [
    "ambiguous_pronouns = ['That','Thats','This','It','Its','These','Those']\n",
    "cuewords = ['because of', 'as a result of', 'due to']\n",
    "anschoice = ['cause', 'effect']\n",
    "contextchoice = ['because of','as a result of', 'due to', 'shorter']\n",
    "\n",
    "\n",
    "#CASE SENSITIVE\n",
    "C = pd.read_csv('context_causal.txt', sep = '\\n', header=None)\n",
    "C.columns = ['c']\n",
    "C = C[C['c'].str.contains('|'.join(cuewords))]\n",
    "\n",
    "C['cue'] = C['c'].apply(lambda c: find_cue(c, cuewords))\n",
    "C['sent'] = C.apply(lambda row: cue_sent(row['c'], row['cue']), axis=1)\n",
    "C = C[~C['sent'].str.contains('Figure')] #get rid of Figure\n",
    "C['cause'] = C.apply(lambda row: answer_str(row['c'], row['cue'], 1), axis=1)\n",
    "\n",
    "C['effect'] = C.apply(lambda row: answer_str(row['c'], row['cue'], 0), axis=1)\n",
    "for cue in cuewords:\n",
    "    C[cue] = C.apply(lambda row: replace_cue(row['c'], row['cue'], cue), axis=1)\n",
    "  \n",
    "C['madeshorter'] = C.apply(lambda row: make_shorter(row['c'], row['cue'], ambiguous_pronouns)[1], axis=1)      \n",
    "C['shorter'] = C.apply(lambda row: make_shorter(row['c'], row['cue'], ambiguous_pronouns)[0], axis=1)\n",
    "C.reset_index(inplace=True,drop=True)\n",
    "C.to_csv('causal.csv')\n",
    "C.head(1)"
   ]
  },
  {
   "cell_type": "markdown",
   "metadata": {},
   "source": [
    "### below are for QGnet preprocessing, ignore if not needed"
   ]
  },
  {
   "cell_type": "code",
   "execution_count": 27,
   "metadata": {},
   "outputs": [],
   "source": [
    "def preprocess_df(df, ans, context): #(C, 'cause', 'because of') cause_becauseof.csv, effect_becauseof.csv\n",
    "    text_ansidx = []\n",
    "    for i in range(len(df)):\n",
    "        c = df[context][i]\n",
    "        a = df[ans][i]\n",
    "        ansIdx = answer_to_idx(c,a)\n",
    "#         print(ansIdx)\n",
    "        if ansIdx != None: #if answer exists\n",
    "            text_ansidx.append((c, [ansIdx]))\n",
    "    return text_ansidx #, tokenized_text_ansidx \n",
    "\n",
    "all_text_ansidx = []\n",
    "for a in anschoice:\n",
    "    for c in contextchoice:\n",
    "        all_text_ansidx.extend(preprocess_df(C, a, c))    \n"
   ]
  },
  {
   "cell_type": "code",
   "execution_count": 34,
   "metadata": {},
   "outputs": [],
   "source": [
    "#given text_ans(text, ansIdx), create dataAns = list of dictionary(ex) that contains #document#pos#ner#doc_case#ansInd\n",
    "dataAns = []\n",
    "for text, ansIdxs in all_text_ansidx: #!!!!!!!!!CHANGE\n",
    "    ex = {}\n",
    "    document = sNLP.word_tokenize(text)\n",
    "    pos = [tup[1] for tup in sNLP.pos(text)]\n",
    "    ner = [tup[1] for tup in sNLP.ner(text)]\n",
    "    \n",
    "    ex['document'] = document\n",
    "    ex['pos'] = pos\n",
    "    ex['ner'] = ner\n",
    "    \n",
    "    # get case info\n",
    "    doc_case = []\n",
    "    for w in ex['document']:\n",
    "        if w.isalpha():\n",
    "            if w.islower():\n",
    "                doc_case.append('L')\n",
    "            else:\n",
    "                doc_case.append('U')\n",
    "        else:\n",
    "            doc_case.append('L')\n",
    "    ex['doc_case'] = doc_case\n",
    "    \n",
    "    # find answers using special ner tags\n",
    "    ansInds = [] # list of lists of answer indicators\n",
    "    for idx in range(len(ansIdxs)): #for each answer, create answer indicaters\n",
    "        ansInd = ['-'] * len(ner)\n",
    "        for j in ansIdxs[idx]:\n",
    "            ansInd[j] = 'A'\n",
    "        ansInds.append(ansInd)\n",
    "    for idx in range(len(ansInds)):#for each answer, creat ex and add\n",
    "        ansInd = ansInds[idx]\n",
    "        newData = deepcopy(ex)\n",
    "        newData['ansInd'] = ansInd\n",
    "#         print(\"ans\", idx, newData, '\\n')\n",
    "        dataAns.append(newData) "
   ]
  },
  {
   "cell_type": "code",
   "execution_count": 35,
   "metadata": {},
   "outputs": [],
   "source": [
    "# append case, pos, ner, ansInd as features to context\n",
    "with open(\"inputformat.txt\", 'wb') as f:\n",
    "    for ex in dataAns:\n",
    "        line = u' '.join([ex['document'][idx].replace(' ', '').lower() + '￨' + ex['doc_case'][idx] + '￨' +\n",
    "                        ex['pos'][idx] + '￨' + ex['ner'][idx] + '￨' + ex['ansInd'][idx]\n",
    "                        for idx in range(len(ex['document']))]).encode('utf-8').strip()\n",
    "        f.write(line + u'\\n'.encode('utf-8'))\n",
    "f.close()\n"
   ]
  },
  {
   "cell_type": "code",
   "execution_count": 36,
   "metadata": {},
   "outputs": [],
   "source": [
    "#answer ||| context in readable format\n",
    "with open(\"readable.txt\", 'wb') as f:\n",
    "    for ex in dataAns:\n",
    "        ans = []\n",
    "        for idx in range(len(ex['ansInd'])):\n",
    "            if ex['ansInd'][idx] == 'A':\n",
    "                ans.append(ex['document'][idx])\n",
    "        line = u' '.join(ans + [' ||| '] + [ex['document'][idx].replace(' ', '').lower() \n",
    "                        for idx in range(len(ex['document']))]).encode('utf-8').strip()\n",
    "        f.write(line + u'\\n'.encode('utf-8'))\n",
    "f.close()"
   ]
  },
  {
   "cell_type": "markdown",
   "metadata": {},
   "source": [
    "### read output"
   ]
  },
  {
   "cell_type": "code",
   "execution_count": 118,
   "metadata": {},
   "outputs": [],
   "source": [
    "# anschoice = ['cause', 'effect']\n",
    "# contextchoice = ['because of','as a result of', 'due to', 'shorter']\n",
    "\n",
    "out = pd.read_csv(\"output_questions_QG-Net.pt.txt.prob.txt\", sep='\\n',header=None)\n",
    "out_cause, out_effect = np.array_split(out, 2)"
   ]
  },
  {
   "cell_type": "code",
   "execution_count": 119,
   "metadata": {},
   "outputs": [],
   "source": [
    "causedf = C.copy()\n",
    "\n",
    "cause_split = np.array_split(out_cause, len(contextchoice))\n",
    "for df in cause_split:\n",
    "    df.reset_index(drop=True,inplace=True)\n",
    "# print(cause_split[1])\n",
    "for i in range(len(contextchoice)):\n",
    "    causedf[contextchoice[i]+'_cause'] = cause_split[i]"
   ]
  },
  {
   "cell_type": "code",
   "execution_count": 120,
   "metadata": {},
   "outputs": [
    {
     "data": {
      "text/plain": [
       "c                       A wedge is simple machine that consists of two inclined planes, giving it a thin end and thick end, as you can see in the Figure 1.1. A wedge is used to cut or split apart objects. Force is applied to the thick end of the wedge, and the wedge, in turn, applies force to the object along both of its sloping sides. This force causes the object to split apart. A knife is another example of a wedge. In the Figure 1.2, a knife is being used to chop tough pecans. The job is easy to do with the knife because of the wedge shape of the blade. The very thin edge of the blade easily enters and cuts through the pecans.     \n",
       "cue                     because of                                                                                                                                                                                                                                                                                                                                                                                                                                                                                                                                                                                                                                \n",
       "sent                    The job is easy to do with the knife because of the wedge shape of the blade.                                                                                                                                                                                                                                                                                                                                                                                                                                                                                                                                                             \n",
       "cause                   the wedge shape of the blade                                                                                                                                                                                                                                                                                                                                                                                                                                                                                                                                                                                                              \n",
       "effect                  The job is easy to do with the knife                                                                                                                                                                                                                                                                                                                                                                                                                                                                                                                                                                                                      \n",
       "because of              A wedge is simple machine that consists of two inclined planes, giving it a thin end and thick end, as you can see in the Figure 1.1. A wedge is used to cut or split apart objects. Force is applied to the thick end of the wedge, and the wedge, in turn, applies force to the object along both of its sloping sides. This force causes the object to split apart. A knife is another example of a wedge. In the Figure 1.2, a knife is being used to chop tough pecans. The job is easy to do with the knife because of the wedge shape of the blade. The very thin edge of the blade easily enters and cuts through the pecans.     \n",
       "as a result of          A wedge is simple machine that consists of two inclined planes, giving it a thin end and thick end, as you can see in the Figure 1.1. A wedge is used to cut or split apart objects. Force is applied to the thick end of the wedge, and the wedge, in turn, applies force to the object along both of its sloping sides. This force causes the object to split apart. A knife is another example of a wedge. In the Figure 1.2, a knife is being used to chop tough pecans. The job is easy to do with the knife as a result of the wedge shape of the blade. The very thin edge of the blade easily enters and cuts through the pecans. \n",
       "due to                  A wedge is simple machine that consists of two inclined planes, giving it a thin end and thick end, as you can see in the Figure 1.1. A wedge is used to cut or split apart objects. Force is applied to the thick end of the wedge, and the wedge, in turn, applies force to the object along both of its sloping sides. This force causes the object to split apart. A knife is another example of a wedge. In the Figure 1.2, a knife is being used to chop tough pecans. The job is easy to do with the knife due to the wedge shape of the blade. The very thin edge of the blade easily enters and cuts through the pecans.         \n",
       "madeshorter             True                                                                                                                                                                                                                                                                                                                                                                                                                                                                                                                                                                                                                                      \n",
       "shorter                 The job is easy to do with the knife because of the wedge shape of the blade.                                                                                                                                                                                                                                                                                                                                                                                                                                                                                                                                                             \n",
       "because of_cause        a job is easy to do what ?                                                                                                                                                                                                                                                                                                                                                                                                                                                                                                                                                                                                                \n",
       "as a result of_cause    a job is easy to do what ?                                                                                                                                                                                                                                                                                                                                                                                                                                                                                                                                                                                                                \n",
       "due to_cause            what is easy to do with the knife ?                                                                                                                                                                                                                                                                                                                                                                                                                                                                                                                                                                                                       \n",
       "shorter_cause           the job is easy to do what ?                                                                                                                                                                                                                                                                                                                                                                                                                                                                                                                                                                                                              \n",
       "Name: 157, dtype: object"
      ]
     },
     "execution_count": 120,
     "metadata": {},
     "output_type": "execute_result"
    }
   ],
   "source": [
    "causedf.loc[157]"
   ]
  },
  {
   "cell_type": "code",
   "execution_count": 121,
   "metadata": {},
   "outputs": [],
   "source": [
    "out_effect.drop(out_effect.index[0]) #!!!!!!! error\n",
    "\n",
    "effectdf = C.copy()\n",
    "effect_split = np.array_split(out_effect, len(contextchoice))\n",
    "for df in effect_split:\n",
    "    df.reset_index(drop=True,inplace=True)\n",
    "for i in range(len(contextchoice)):\n",
    "    effectdf[contextchoice[i]+'_effect'] = effect_split[i]"
   ]
  },
  {
   "cell_type": "code",
   "execution_count": 127,
   "metadata": {},
   "outputs": [],
   "source": [
    "outputdf = effectdf.merge(causedf)\n"
   ]
  },
  {
   "cell_type": "code",
   "execution_count": 130,
   "metadata": {},
   "outputs": [],
   "source": [
    "outputdf.head()\n",
    "outputdf.to_csv('causal_output.csv',index=False)\n"
   ]
  },
  {
   "cell_type": "code",
   "execution_count": null,
   "metadata": {},
   "outputs": [],
   "source": []
  }
 ],
 "metadata": {
  "kernelspec": {
   "display_name": "Python 3",
   "language": "python",
   "name": "python3"
  },
  "language_info": {
   "codemirror_mode": {
    "name": "ipython",
    "version": 3
   },
   "file_extension": ".py",
   "mimetype": "text/x-python",
   "name": "python",
   "nbconvert_exporter": "python",
   "pygments_lexer": "ipython3",
   "version": "3.8.5"
  }
 },
 "nbformat": 4,
 "nbformat_minor": 2
}
