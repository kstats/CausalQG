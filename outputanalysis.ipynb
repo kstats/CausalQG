{
 "cells": [
  {
   "cell_type": "code",
   "execution_count": 105,
   "metadata": {},
   "outputs": [
    {
     "name": "stdout",
     "output_type": "stream",
     "text": [
      "[nltk_data] Downloading package stopwords to /Users/emily/nltk_data...\n",
      "[nltk_data]   Package stopwords is already up-to-date!\n"
     ]
    }
   ],
   "source": [
    "import matplotlib.pyplot as plt\n",
    "import numpy as np\n",
    "import pandas as pd\n",
    "import nltk\n",
    "from collections import Counter\n",
    "nltk.download('stopwords')\n",
    "pd.set_option('display.max_colwidth', -1)\n",
    "stop_words = set(nltk.corpus.stopwords.words(\"english\"))\n",
    "\n",
    "bad_words = [\"his\", \"her\", \"their\", \"you\", 'him', 'them', 'it']\n",
    "start_words = ['what', 'why', 'how', 'where', 'who', 'which', 'when']\n",
    "out_file = 'output_questions_QG-Net.pt.txt.prob.txt'\n",
    "\n",
    "%store -r context_ans\n",
    "contexts, ansIdxs = list(zip(*context_ans)) \n",
    "\n",
    "answers = [[contexts[i][k] for k in ansIdxs[i]] for i in range(len(contexts))]\n",
    "\n",
    "def circular(question):\n",
    "    words = question.split()\n",
    "    word_counts = Counter(words)\n",
    "    if any([c>=2 and w not in stop_words for w, c in word_counts.most_common()]):\n",
    "        # How many claims were brought by individuals to settle claims against Purdue? << nonstop word present twice\n",
    "        return True"
   ]
  },
  {
   "cell_type": "code",
   "execution_count": 110,
   "metadata": {},
   "outputs": [
    {
     "name": "stdout",
     "output_type": "stream",
     "text": [
      "what happened to the populations of populations ?\n",
      "what happened to the populations of populations ?\n",
      "% has ambiguous pronoun: 0.23529411764705882\n",
      "% circular: 0.11764705882352941\n"
     ]
    },
    {
     "data": {
      "text/plain": [
       "(array([0, 1]), <a list of 2 Text xticklabel objects>)"
      ]
     },
     "execution_count": 110,
     "metadata": {},
     "output_type": "execute_result"
    },
    {
     "data": {
      "image/png": "[encoded data removed]",
      "text/plain": [
       "<matplotlib.figure.Figure at 0x1a21c01438>"
      ]
     },
     "metadata": {},
     "output_type": "display_data"
    }
   ],
   "source": [
    "df = pd.read_csv(out_file, sep=\"\\n\", header=None)\n",
    "df.columns = [\"q\"]\n",
    "df['first'] = df['q'].apply(lambda x: ' '.join(x.split()[:1]))\n",
    "df['first2'] = df['q'].apply(lambda x: ' '.join(x.split()[:2]))\n",
    "df['context'] = contexts\n",
    "df['answer'] = answers\n",
    "\n",
    "has_badword = 0\n",
    "is_circular = 0\n",
    "for q in df['q']:\n",
    "    if circular(q):\n",
    "        is_circular+=1\n",
    "        print(q)\n",
    "    for w in bad_words:\n",
    "        if w in q:\n",
    "            has_badword+=1\n",
    "            break\n",
    "print('% has ambiguous pronoun:', has_badword/len(df))\n",
    "print('% circular:', is_circular/len(df))\n",
    "\n",
    "\n",
    "df['first'].value_counts().plot(kind = 'bar')\n",
    "df['first2'].value_counts().plot(kind = 'bar')\n",
    "plt.xlabel('first question word')\n",
    "plt.ylabel('frequency')\n",
    "plt.title('first word freq -- effect as answer')\n",
    "plt.xticks(rotation=45)"
   ]
  },
  {
   "cell_type": "code",
   "execution_count": 111,
   "metadata": {},
   "outputs": [
    {
     "data": {
      "text/plain": [
       "(array([0, 1, 2, 3, 4]), <a list of 5 Text xticklabel objects>)"
      ]
     },
     "execution_count": 111,
     "metadata": {},
     "output_type": "execute_result"
    },
    {
     "data": {
      "image/png": "[encoded data removed]",
      "text/plain": [
       "<matplotlib.figure.Figure at 0x1a21cb1be0>"
      ]
     },
     "metadata": {},
     "output_type": "display_data"
    }
   ],
   "source": [
    "\n",
    "def matchingString(x,y):\n",
    "    match=''\n",
    "    for i in range(0,len(x)):\n",
    "        for j in range(0,len(y)):\n",
    "            k=1\n",
    "            # now applying while condition untill we find a substring match and length of substring is less than length of x and y\n",
    "            while (i+k <= len(x) and j+k <= len(y) and x[i:i+k]==y[j:j+k]):\n",
    "                if len(match) <= len(x[i:i+k]):\n",
    "                   match = x[i:i+k]\n",
    "                k=k+1\n",
    "    return match  \n",
    "\n",
    "ngram = []\n",
    "ngram_ans = []\n",
    "for i in range(len(df)):\n",
    "    q = df['q'][i]\n",
    "    c = ' '.join(df['context'][i])\n",
    "    a = ' '.join(df['answer'][i])\n",
    "    mc = matchingString(q,c).strip()\n",
    "    ma = matchingString(q,a).strip()\n",
    "    ngram.append(mc.count(' ')+1)\n",
    "    ngram_ans.append(ma.count(' ')+1)\n",
    "    \n",
    "df['ngram match'] = ngram\n",
    "df['ngram match ans'] = ngram_ans\n",
    "\n",
    "df['ngram match'].value_counts().sort_index().plot(kind = 'bar')\n",
    "plt.xlabel('max n-gram overlap')\n",
    "plt.ylabel('frequency')\n",
    "plt.title('max n-gram overlap between question and context')\n",
    "plt.xticks(rotation=45)\n"
   ]
  },
  {
   "cell_type": "code",
   "execution_count": 112,
   "metadata": {},
   "outputs": [
    {
     "data": {
      "text/plain": [
       "(array([0]), <a list of 1 Text xticklabel objects>)"
      ]
     },
     "execution_count": 112,
     "metadata": {},
     "output_type": "execute_result"
    },
    {
     "data": {
      "image/png": "[encoded data removed]",
      "text/plain": [
       "<matplotlib.figure.Figure at 0x1a21990860>"
      ]
     },
     "metadata": {},
     "output_type": "display_data"
    }
   ],
   "source": [
    "df['ngram match ans'].value_counts().sort_index().plot(kind = 'bar')\n",
    "plt.xlabel('max n-gram overlap')\n",
    "plt.ylabel('frequency')\n",
    "plt.title('max n-gram overlap')\n",
    "plt.xticks(rotation=45)"
   ]
  },
  {
   "cell_type": "code",
   "execution_count": null,
   "metadata": {},
   "outputs": [],
   "source": []
  }
 ],
 "metadata": {
  "kernelspec": {
   "display_name": "Python (qgnet)",
   "language": "python",
   "name": "qgnet"
  },
  "language_info": {
   "codemirror_mode": {
    "name": "ipython",
    "version": 3
   },
   "file_extension": ".py",
   "mimetype": "text/x-python",
   "name": "python",
   "nbconvert_exporter": "python",
   "pygments_lexer": "ipython3",
   "version": "3.5.4"
  }
 },
 "nbformat": 4,
 "nbformat_minor": 2
}
