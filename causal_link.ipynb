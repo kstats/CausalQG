{
 "cells": [
  {
   "cell_type": "code",
   "execution_count": 10,
   "metadata": {},
   "outputs": [],
   "source": [
    "import nltk\n",
    "import numpy as np\n",
    "import argparse\n",
    "import tensorflow as tf\n",
    "import re"
   ]
  },
  {
   "cell_type": "markdown",
   "metadata": {},
   "source": [
    "# Finding cause and effects (within sentence)"
   ]
  },
  {
   "cell_type": "code",
   "execution_count": 84,
   "metadata": {},
   "outputs": [
    {
     "name": "stdout",
     "output_type": "stream",
     "text": [
      "sentences:\n",
      "sentence: It was not long before he saw me looking at him, and so he began to move\n",
      "cause:<re.Match object; span=(0, 53), match='It was not long before he saw me looking at him, >\n",
      "effect:<re.Match object; span=(55, 72), match=' he began to move'>\n",
      "\n",
      "\n",
      "sentence: He never lies; therefore, everyone likes to make friends with him\n",
      "cause:<re.Match object; span=(0, 15), match='He never lies; '>\n",
      "effect:<re.Match object; span=(24, 65), match=', everyone likes to make friends with him'>\n",
      "\n",
      "\n",
      "sentence: Japan will be on the dark side of the Earth, and thus will lack the warming influence of the Sun\n",
      "cause:<re.Match object; span=(0, 49), match='Japan will be on the dark side of the Earth, and >\n",
      "effect:<re.Match object; span=(53, 96), match=' will lack the warming influence of the Sun'>\n",
      "\n",
      "\n"
     ]
    }
   ],
   "source": [
    "sentences = [\"It was not long before he saw me looking at him, and so he began to move. He never lies; therefore, everyone likes to make friends with him. Japan will be on the dark side of the Earth, and thus will lack the warming influence of the Sun.\"]\n",
    "text = sentences[0]\n",
    "BE = ['be', 'is', 'are', 'was', 'were', 'being', 'been', 'have been']\n",
    "AND = ['and', 'but', 'so', 'also']\n",
    "def type_match(text):\n",
    "    sentences = re.split(r' *[\\.\\?!][\\'\"\\)\\]]* *', text)[:-1]\n",
    "    print(\"sentences:\")\n",
    "    for sentence in sentences:\n",
    "        print('sentence: ' + sentence)    \n",
    "        cause = re.search('.+?(?=(therefore)|(so)|(thus))', sentence)\n",
    "        effect = re.search(r'(?<=(therefore))[^.]*', sentence) or re.search(r'(?<=(thus))[^.]*', sentence) or re.search(r'(?<=(so))[^.]*', sentence)\n",
    "        print('cause:' + str(cause))\n",
    "        print('effect:' + str(effect))\n",
    "        print('\\n')\n",
    "type_match(text) "
   ]
  },
  {
   "cell_type": "code",
   "execution_count": null,
   "metadata": {},
   "outputs": [],
   "source": []
  },
  {
   "cell_type": "code",
   "execution_count": 6,
   "metadata": {},
   "outputs": [
    {
     "name": "stdout",
     "output_type": "stream",
     "text": [
      "\u001b[31m\"red\"\u001b[0m\n"
     ]
    }
   ],
   "source": [
    "print(\"\\x1b[31m\\\"red\\\"\\x1b[0m\")"
   ]
  },
  {
   "cell_type": "code",
   "execution_count": 39,
   "metadata": {},
   "outputs": [],
   "source": [
    "sentence = \"It was not long before he saw me looking at him, and so he began to move\"\n",
    "print(sentence[])"
   ]
  },
  {
   "cell_type": "code",
   "execution_count": null,
   "metadata": {},
   "outputs": [],
   "source": []
  }
 ],
 "metadata": {
  "kernelspec": {
   "display_name": "Python 3",
   "language": "python",
   "name": "python3"
  },
  "language_info": {
   "codemirror_mode": {
    "name": "ipython",
    "version": 3
   },
   "file_extension": ".py",
   "mimetype": "text/x-python",
   "name": "python",
   "nbconvert_exporter": "python",
   "pygments_lexer": "ipython3",
   "version": "3.7.6"
  }
 },
 "nbformat": 4,
 "nbformat_minor": 4
}
